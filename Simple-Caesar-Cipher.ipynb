{
  "nbformat": 4,
  "nbformat_minor": 0,
  "metadata": {
    "colab": {
      "name": "Copy of 2020_04_07 Charris Caeser Cipher",
      "provenance": [],
      "collapsed_sections": [],
      "include_colab_link": true
    },
    "kernelspec": {
      "name": "python3",
      "display_name": "Python 3"
    }
  },
  "cells": [
    {
      "cell_type": "markdown",
      "metadata": {
        "id": "view-in-github",
        "colab_type": "text"
      },
      "source": [
        "<a href=\"https://colab.research.google.com/github/ColesonWelles/Simple-Caesar-Cypher/blob/main/Simple-Caesar-Cypher.ipynb\" target=\"_parent\"><img src=\"https://colab.research.google.com/assets/colab-badge.svg\" alt=\"Open In Colab\"/></a>"
      ]
    },
    {
      "cell_type": "code",
      "metadata": {
        "id": "cQzRKg39hzNy"
      },
      "source": [
        "# For Encryption\n",
        "\n",
        "def main_one():\n",
        "    function = input('Encrypt or Decrypt?')\n",
        "    text = input('Enter text: ')\n",
        "    key = int(input('Enter key: '))\n",
        "\n",
        "    if (function.upper() == 'DECRYPT'):\n",
        "        key = 0 - key \n",
        "    else:\n",
        "      print(shift_encrypt(text.upper(), key))\n",
        "\n",
        "def shift_encrypt(text, key):\n",
        "    alphabet = 'ABCDEFGHIJKLMNOPQRSTUVWXYZ'\n",
        "    outputString = ''\n",
        "\n",
        "    for letter in text:\n",
        "        if letter in alphabet:\n",
        "            pos = alphabet.find(letter)\n",
        "            newPos = (pos + key) % 26\n",
        "            outputString = outputString + alphabet[newPos]\n",
        "        else:\n",
        "            outputString = outputString + letter\n",
        "    \n",
        "    return outputString\n",
        "\n",
        "main_one()"
      ],
      "execution_count": null,
      "outputs": []
    },
    {
      "cell_type": "code",
      "metadata": {
        "id": "MQuMPRhm3APp"
      },
      "source": [
        "# For Decryption\n",
        "\n",
        "def main_two():\n",
        "    function = input('Do you have something to decrypt? ')\n",
        "    text = input('Enter text: ')\n",
        "    key = int(input('Enter key: '))\n",
        "\n",
        "    if (function.upper() == 'DECRYPT'):\n",
        "        key = 0 + key\n",
        "    \n",
        "    print(shift_decrypt(text.upper(), key))\n",
        "\n",
        "def shift_decrypt(text, key):\n",
        "    alphabet = 'ABCDEFGHIJKLMNOPQRSTUVWXYZ'\n",
        "    outputString = ''\n",
        "\n",
        "    for letter in text:\n",
        "        if letter in alphabet:\n",
        "            pos = alphabet.find(letter)\n",
        "            newPos = (pos - key) % 26\n",
        "            outputString = outputString + alphabet[newPos]\n",
        "        else:\n",
        "            outputString = outputString + letter\n",
        "    \n",
        "    return outputString\n",
        "\n",
        "main_two()"
      ],
      "execution_count": null,
      "outputs": []
    }
  ]
}
